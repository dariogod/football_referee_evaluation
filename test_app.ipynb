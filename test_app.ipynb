{
 "cells": [
  {
   "cell_type": "code",
   "execution_count": null,
   "metadata": {},
   "outputs": [],
   "source": [
    "dataset_split = \"test\"\n",
    "video_id = \"SNGS-130\"\n",
    "\n",
    "frames_folder = f\"data/SoccerNet/SN-GSR-2025/{dataset_split}/{video_id}/img1\"\n",
    "video_path = f\"data/SoccerNet/SN-GSR-2025/{dataset_split}/{video_id}/{video_id}.mp4\"\n",
    "fps = 25"
   ]
  },
  {
   "cell_type": "code",
   "execution_count": 3,
   "metadata": {},
   "outputs": [
    {
     "name": "stderr",
     "output_type": "stream",
     "text": [
      "Converting frames to video: 100%|██████████| 750/750 [00:11<00:00, 66.84it/s]\n"
     ]
    }
   ],
   "source": [
    "from src.utils.frames_to_mp4 import create_video_from_frames\n",
    "try:\n",
    "    create_video_from_frames(frames_folder, video_path, fps)\n",
    "except Exception as e:\n",
    "    msg = f\"Error creating video: {e}\"\n",
    "    print(msg)\n",
    "    raise Exception(msg)"
   ]
  },
  {
   "cell_type": "code",
   "execution_count": 4,
   "metadata": {},
   "outputs": [
    {
     "name": "stdout",
     "output_type": "stream",
     "text": [
      "API Status: Football Referee Evaluation API is running\n"
     ]
    }
   ],
   "source": [
    "import requests\n",
    "\n",
    "api_base_url = \"http://localhost:4321\"\n",
    "health_url = f\"{api_base_url}/\"\n",
    "\n",
    "response = requests.get(health_url)\n",
    "print(f\"API Status: {response.json()['message']}\")"
   ]
  },
  {
   "cell_type": "code",
   "execution_count": 5,
   "metadata": {},
   "outputs": [
    {
     "name": "stdout",
     "output_type": "stream",
     "text": [
      "Tracking completed successfully!\n",
      "Number of frames processed: 750\n",
      "Output saved to: data/predictions/SoccerNet/SN-GSR-2025/test/SNGS-130\n"
     ]
    }
   ],
   "source": [
    "import requests\n",
    "\n",
    "# Define the API endpoint\n",
    "api_url = \"http://localhost:4321/track\"\n",
    "\n",
    "# Prepare the request parameters\n",
    "params = {\n",
    "    \"video_path\": str(video_path),\n",
    "    \"model\": \"yolo\",\n",
    "    \"store_predictions\": True\n",
    "}\n",
    "\n",
    "try:\n",
    "    response = requests.post(api_url, params=params)\n",
    "    \n",
    "    if response.status_code == 200:\n",
    "        result = response.json()\n",
    "        print(f\"Tracking completed successfully!\")\n",
    "        print(f\"Number of frames processed: {len(result['results'])}\")\n",
    "        print(f\"Output saved to: {result['output_path']}\")\n",
    "    else:\n",
    "        print(f\"Error: {response.status_code}\")\n",
    "        print(response.text)\n",
    "except Exception as e:\n",
    "    print(f\"Request failed: {e}\")\n"
   ]
  }
 ],
 "metadata": {
  "kernelspec": {
   "display_name": "venv",
   "language": "python",
   "name": "python3"
  },
  "language_info": {
   "codemirror_mode": {
    "name": "ipython",
    "version": 3
   },
   "file_extension": ".py",
   "mimetype": "text/x-python",
   "name": "python",
   "nbconvert_exporter": "python",
   "pygments_lexer": "ipython3",
   "version": "3.12.10"
  }
 },
 "nbformat": 4,
 "nbformat_minor": 2
}
