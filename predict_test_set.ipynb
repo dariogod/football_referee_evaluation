{
 "cells": [
  {
   "cell_type": "markdown",
   "metadata": {},
   "source": [
    "# Run the model on all test videos"
   ]
  },
  {
   "cell_type": "code",
   "execution_count": 39,
   "metadata": {},
   "outputs": [],
   "source": [
    "# Setup the variables\n",
    "\n",
    "test_folder = \"data/SoccerNet/SN-GSR-2025/test\"\n",
    "model = \"yolo\"  # \"yolo\" or \"dfine\""
   ]
  },
  {
   "cell_type": "code",
   "execution_count": 40,
   "metadata": {},
   "outputs": [
    {
     "name": "stdout",
     "output_type": "stream",
     "text": [
      "{'message': 'Football Referee Evaluation API is running'}\n"
     ]
    }
   ],
   "source": [
    "# Test if service is running\n",
    "import requests\n",
    "\n",
    "response = requests.get(\"http://localhost:4321/\")\n",
    "print(response.json())"
   ]
  },
  {
   "cell_type": "code",
   "execution_count": 41,
   "metadata": {},
   "outputs": [],
   "source": [
    "def make_post_request(endpoint: str, body: dict) -> dict:\n",
    "    response = requests.post(f\"http://localhost:4321/{endpoint}\", json=body)\n",
    "    if response.status_code != 200:\n",
    "        raise Exception(f\"Request failed with status code {response.status_code}\")\n",
    "    return response.json()\n"
   ]
  },
  {
   "cell_type": "markdown",
   "metadata": {},
   "source": [
    "### 1) Create a video from the frames"
   ]
  },
  {
   "cell_type": "code",
   "execution_count": 42,
   "metadata": {},
   "outputs": [
    {
     "name": "stderr",
     "output_type": "stream",
     "text": [
      "Creating videos: 100%|██████████| 51/51 [00:00<00:00, 87920.06it/s]\n"
     ]
    }
   ],
   "source": [
    "from src.utils.frames_to_mp4 import create_video_from_frames\n",
    "from tqdm import tqdm\n",
    "import os\n",
    "\n",
    "for video_id in tqdm(os.listdir(test_folder), desc=\"Creating videos\"):\n",
    "    if video_id.startswith(\"SNGS\"):\n",
    "        frames_folder = os.path.join(test_folder, video_id, \"img1\")\n",
    "        video_path = os.path.join(test_folder, video_id, f\"{video_id}.mp4\")\n",
    "        if not os.path.exists(video_path):\n",
    "            create_video_from_frames(frames_folder, video_path, fps=25)"
   ]
  },
  {
   "cell_type": "markdown",
   "metadata": {},
   "source": [
    "### 2) Track the players"
   ]
  },
  {
   "cell_type": "code",
   "execution_count": 43,
   "metadata": {},
   "outputs": [],
   "source": [
    "from typing import Literal\n",
    "\n",
    "def track_players(video_path: str, model: Literal[\"yolo\", \"d-fine\"], results_path: str | None = None):\n",
    "    body = {\n",
    "        \"video_path\": video_path,\n",
    "        \"model\": model,\n",
    "        \"results_path\": results_path\n",
    "    }\n",
    "    make_post_request(\"track\", body)"
   ]
  },
  {
   "cell_type": "code",
   "execution_count": 44,
   "metadata": {},
   "outputs": [
    {
     "name": "stderr",
     "output_type": "stream",
     "text": [
      "Tracking players: 100%|██████████| 51/51 [00:00<00:00, 44150.57it/s]\n"
     ]
    }
   ],
   "source": [
    "from tqdm import tqdm\n",
    "import os\n",
    "\n",
    "for video_id in tqdm(os.listdir(test_folder), desc=\"Tracking players\"):\n",
    "    if video_id.startswith(\"SNGS\"):\n",
    "\n",
    "        video_path = os.path.join(test_folder, video_id, f\"{video_id}.mp4\")\n",
    "        results_path = os.path.join(test_folder.replace(\"data\", \"data/predictions\"), video_id, f\"player_tracker_{model}\")\n",
    "\n",
    "        if not os.path.exists(video_path):\n",
    "            print(f\"Video file not found for video {video_id}\")\n",
    "            continue\n",
    "\n",
    "        if os.path.exists(results_path):\n",
    "            # already processed\n",
    "            continue\n",
    "\n",
    "        track_players(video_path, model=model, results_path=results_path)"
   ]
  },
  {
   "cell_type": "markdown",
   "metadata": {},
   "source": [
    "### 3) Assign colors to each tracked player"
   ]
  },
  {
   "cell_type": "code",
   "execution_count": 48,
   "metadata": {},
   "outputs": [],
   "source": [
    "import requests\n",
    "from typing import Any\n",
    "\n",
    "def assign_colors(video_path: str, detections: list[dict[str, Any]], results_path: str | None = None):\n",
    "    body = {\n",
    "        \"video_path\": video_path,\n",
    "        \"detections\": detections,\n",
    "        \"results_path\": results_path\n",
    "    }\n",
    "    make_post_request(\"assign-colors\", body)"
   ]
  },
  {
   "cell_type": "code",
   "execution_count": 50,
   "metadata": {},
   "outputs": [
    {
     "name": "stderr",
     "output_type": "stream",
     "text": [
      "Creating videos: 100%|██████████| 51/51 [32:38<00:00, 38.40s/it]\n"
     ]
    }
   ],
   "source": [
    "from tqdm import tqdm\n",
    "import os\n",
    "import json\n",
    "\n",
    "\n",
    "for video_id in tqdm(os.listdir(test_folder), desc=\"Creating videos\"):\n",
    "    if video_id.startswith(\"SNGS\"):\n",
    "        video_path = os.path.join(test_folder, video_id, f\"{video_id}.mp4\")\n",
    "        detections_path = os.path.join(test_folder.replace(\"data\", \"data/predictions\"), video_id, f\"player_tracker_{model}\", \"detections.json\")\n",
    "        results_path = os.path.join(test_folder.replace(\"data\", \"data/predictions\"), video_id, f\"color_assigner_{model}\")\n",
    "\n",
    "        if not os.path.exists(video_path):\n",
    "            print(f\"Video file not found for video {video_id}\")\n",
    "            continue\n",
    "\n",
    "        if not os.path.exists(detections_path):\n",
    "            print(f\"Detections file not found for video {video_id}\")\n",
    "            continue\n",
    "\n",
    "        with open(detections_path, \"r\") as f:\n",
    "            detections = json.load(f)\n",
    "\n",
    "        if os.path.exists(results_path):\n",
    "            # already processed\n",
    "            continue\n",
    "\n",
    "        assign_colors(video_path, detections, results_path)"
   ]
  },
  {
   "cell_type": "code",
   "execution_count": null,
   "metadata": {},
   "outputs": [],
   "source": []
  },
  {
   "cell_type": "code",
   "execution_count": null,
   "metadata": {},
   "outputs": [],
   "source": []
  },
  {
   "cell_type": "code",
   "execution_count": null,
   "metadata": {},
   "outputs": [],
   "source": []
  }
 ],
 "metadata": {
  "kernelspec": {
   "display_name": "venv",
   "language": "python",
   "name": "python3"
  },
  "language_info": {
   "codemirror_mode": {
    "name": "ipython",
    "version": 3
   },
   "file_extension": ".py",
   "mimetype": "text/x-python",
   "name": "python",
   "nbconvert_exporter": "python",
   "pygments_lexer": "ipython3",
   "version": "3.12.10"
  }
 },
 "nbformat": 4,
 "nbformat_minor": 2
}
