{
 "cells": [
  {
   "cell_type": "code",
   "execution_count": null,
   "metadata": {},
   "outputs": [],
   "source": [
    "!pip install huggingface_hub -q"
   ]
  },
  {
   "cell_type": "code",
   "execution_count": null,
   "metadata": {},
   "outputs": [],
   "source": [
    "from huggingface_hub import snapshot_download\n",
    "\n",
    "snapshot_download(\n",
    "    repo_id=\"SoccerNet/SN-GSR-2025\",\n",
    "    repo_type=\"dataset\",\n",
    "    revision=\"main\",\n",
    "    local_dir=\"SoccerNet/SN-GSR-2025\"\n",
    ")"
   ]
  },
  {
   "cell_type": "code",
   "execution_count": null,
   "metadata": {},
   "outputs": [],
   "source": [
    "import os\n",
    "import zipfile\n",
    "\n",
    "zip_files = [\n",
    "    \"SoccerNet/SN-GSR-2025/challenge.zip\",\n",
    "    \"SoccerNet/SN-GSR-2025/test.zip\",\n",
    "    \"SoccerNet/SN-GSR-2025/train.zip\",\n",
    "    \"SoccerNet/SN-GSR-2025/valid.zip\"\n",
    "]\n",
    "\n",
    "for zip_path in zip_files:\n",
    "    if os.path.exists(zip_path):\n",
    "        with zipfile.ZipFile(zip_path, 'r') as zip_ref:\n",
    "            zip_ref.extractall(zip_path.split(\".zip\")[0])\n",
    "        print(f\"Successfully extracted {zip_path}\")\n",
    "    else:\n",
    "        print(f\"Note: {zip_path} does not exist\")"
   ]
  },
  {
   "cell_type": "code",
   "execution_count": null,
   "metadata": {},
   "outputs": [],
   "source": [
    "# Optional: Delete the zip files\n",
    "for zip_path in zip_files:\n",
    "    if os.path.exists(zip_path):\n",
    "        os.remove(zip_path)\n",
    "        print(f\"Deleted {zip_path}\")\n",
    "    else:\n",
    "        print(f\"Note: {zip_path} does not exist\")"
   ]
  }
 ],
 "metadata": {
  "kernelspec": {
   "display_name": "venv",
   "language": "python",
   "name": "python3"
  },
  "language_info": {
   "codemirror_mode": {
    "name": "ipython",
    "version": 3
   },
   "file_extension": ".py",
   "mimetype": "text/x-python",
   "name": "python",
   "nbconvert_exporter": "python",
   "pygments_lexer": "ipython3",
   "version": "3.12.10"
  }
 },
 "nbformat": 4,
 "nbformat_minor": 2
}
